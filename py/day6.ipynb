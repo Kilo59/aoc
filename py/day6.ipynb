{
 "cells": [
  {
   "cell_type": "markdown",
   "metadata": {},
   "source": [
    "# Day 6: Tuning Trouble\n",
    "\n",
    "The preparations are finally complete; you and the Elves leave camp on foot and begin to make your way toward the star fruit grove.\n",
    "\n",
    "As you move through the dense undergrowth, one of the Elves gives you a handheld device. He says that it has many fancy features, but the most important one to set up right now is the communication system.\n",
    "\n",
    "However, because he's heard you have significant experience dealing with signal-based systems, he convinced the other Elves that it would be okay to give you their one malfunctioning device - surely you'll have no problem fixing it.\n",
    "\n",
    "As if inspired by comedic timing, the device emits a few colorful sparks.\n",
    "\n",
    "To be able to communicate with the Elves, the device needs to lock on to their signal. The signal is a series of seemingly-random characters that the device receives one at a time.\n",
    "\n",
    "To fix the communication system, you need to add a subroutine to the device that detects a start-of-packet marker in the datastream. In the protocol being used by the Elves, **the start of a packet is indicated by a sequence of `four characters` that are all different**.\n",
    "\n",
    "The device will send your subroutine a datastream buffer (your puzzle input); your subroutine needs to identify the first position where the four most recently received characters were all different. Specifically, it needs to report the number of characters from the beginning of the buffer to the end of the first such four-character marker.\n",
    "\n",
    "For example, suppose you receive the following datastream buffer:\n",
    "\n",
    "`mjqjpqmgbljsphdztnvjfqwrcgsmlb`\n",
    "After the first three characters (mjq) have been received, there haven't been enough characters received yet to find the marker. The first time a marker could occur is after the fourth character is received, making the most recent four characters mjqj. Because j is repeated, this isn't a marker.\n",
    "\n",
    "The first time a marker appears is after the seventh character arrives. Once it does, the last four characters received are jpqm, which are all different. In this case, your subroutine should report the value 7, because the first start-of-packet marker is complete after 7 characters have been processed.\n",
    "\n",
    "Here are a few more examples:\n",
    "\n",
    "`bvwbjplbgvbhsrlpgdmjqwftvncz`: first marker after character 5\n",
    "`nppdvjthqldpwncqszvftbrmjlhg`: first marker after character 6\n",
    "`nznrnfrfntjfmvfwmzdfjlvtqnbhcprsg`: first marker after character 10\n",
    "`zcfzfwzzqfrljwzlrfnpqdbhtmscgvjw`: first marker after character 11\n",
    "\n",
    "**How many characters need to be processed before the first start-of-packet marker is detected?**\n"
   ]
  },
  {
   "cell_type": "code",
   "execution_count": 1,
   "metadata": {},
   "outputs": [
    {
     "name": "stderr",
     "output_type": "stream",
     "text": [
      "Version 1.0.4\n"
     ]
    }
   ],
   "source": [
    "%load_ext nb_mypy"
   ]
  },
  {
   "cell_type": "code",
   "execution_count": 2,
   "metadata": {},
   "outputs": [],
   "source": [
    "from __future__ import annotations\n",
    "\n",
    "from pathlib import Path\n",
    "\n",
    "INPUT_FILE = Path.cwd() / \"inputs\" / \"day6.txt\"\n",
    "assert INPUT_FILE.exists(), INPUT_FILE\n"
   ]
  },
  {
   "cell_type": "code",
   "execution_count": 3,
   "metadata": {},
   "outputs": [
    {
     "name": "stdout",
     "output_type": "stream",
     "text": [
      "Marker found after 7 - jpqm\n",
      "Marker found after 5 - vwbj\n",
      "Marker found after 6 - pdvj\n",
      "Marker found after 10 - rfnt\n",
      "Marker found after 11 - zqfr\n"
     ]
    }
   ],
   "source": [
    "from collections import deque\n",
    "from typing import NamedTuple\n",
    "\n",
    "TEST_BUFFERS = {\n",
    "    \"mjqjpqmgbljsphdztnvjfqwrcgsmlb\": 7,\n",
    "    \"bvwbjplbgvbhsrlpgdmjqwftvncz\": 5,\n",
    "    \"nppdvjthqldpwncqszvftbrmjlhg\": 6,\n",
    "    \"nznrnfrfntjfmvfwmzdfjlvtqnbhcprsg\": 10,\n",
    "    \"zcfzfwzzqfrljwzlrfnpqdbhtmscgvjw\": 11,\n",
    "}\n",
    "\n",
    "class MarkerDetails(NamedTuple):\n",
    "    marker: str\n",
    "    position: int\n",
    "\n",
    "def find_marker(buffer: str, marker_length: int = 4) -> MarkerDetails:\n",
    "    possible_marker: deque[str] = deque(maxlen=marker_length)\n",
    "    for i, c in enumerate(buffer):\n",
    "\n",
    "        if len(set(possible_marker)) == marker_length:\n",
    "            marker = buffer[i-marker_length:i]\n",
    "            print(f\"Marker found after {i} - {marker}\")\n",
    "            return MarkerDetails(marker=marker, position=i)\n",
    "\n",
    "        possible_marker.append(c)\n",
    "    raise ValueError(\"No marker found in buffer\")\n",
    "\n",
    "for buffer, expected_position in TEST_BUFFERS.items():\n",
    "    marker_details = find_marker(buffer)\n",
    "    assert marker_details.position == expected_position\n"
   ]
  },
  {
   "cell_type": "code",
   "execution_count": 4,
   "metadata": {},
   "outputs": [
    {
     "name": "stdout",
     "output_type": "stream",
     "text": [
      "Marker found after 1757 - qhts\n"
     ]
    },
    {
     "data": {
      "text/plain": [
       "MarkerDetails(marker='qhts', position=1757)"
      ]
     },
     "execution_count": 4,
     "metadata": {},
     "output_type": "execute_result"
    }
   ],
   "source": [
    "find_marker(INPUT_FILE.read_text())"
   ]
  },
  {
   "cell_type": "markdown",
   "metadata": {},
   "source": [
    "## Part Two\n",
    "Your device's communication system is correctly detecting packets, but still isn't working. It looks like it also needs to look for messages.\n",
    "\n",
    "A start-of-message marker is just like a start-of-packet marker, except it consists of 14 distinct characters rather than 4.\n",
    "\n",
    "Here are the first positions of start-of-message markers for all of the above examples:\n",
    "\n",
    "`mjqjpqmgbljsphdztnvjfqwrcgsmlb`: first marker after character 19\n",
    "`bvwbjplbgvbhsrlpgdmjqwftvncz`: first marker after character 23\n",
    "`nppdvjthqldpwncqszvftbrmjlhg`: first marker after character 23\n",
    "`nznrnfrfntjfmvfwmzdfjlvtqnbhcprsg`: first marker after character 29\n",
    "`zcfzfwzzqfrljwzlrfnpqdbhtmscgvjw`: first marker after character 26\n",
    "**How many characters need to be processed before the first start-of-message marker is detected?**"
   ]
  },
  {
   "cell_type": "code",
   "execution_count": 5,
   "metadata": {},
   "outputs": [
    {
     "name": "stdout",
     "output_type": "stream",
     "text": [
      "Marker found after 2950 - zfbclsqgdmhrnj\n"
     ]
    },
    {
     "data": {
      "text/plain": [
       "MarkerDetails(marker='zfbclsqgdmhrnj', position=2950)"
      ]
     },
     "execution_count": 5,
     "metadata": {},
     "output_type": "execute_result"
    }
   ],
   "source": [
    "find_marker(INPUT_FILE.read_text(), marker_length=14)"
   ]
  }
 ],
 "metadata": {
  "kernelspec": {
   "display_name": "Python 3 (ipykernel)",
   "language": "python",
   "name": "python3"
  },
  "language_info": {
   "codemirror_mode": {
    "name": "ipython",
    "version": 3
   },
   "file_extension": ".py",
   "mimetype": "text/x-python",
   "name": "python",
   "nbconvert_exporter": "python",
   "pygments_lexer": "ipython3",
   "version": "3.10.8"
  }
 },
 "nbformat": 4,
 "nbformat_minor": 4
}
