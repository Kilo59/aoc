{
 "cells": [
  {
   "cell_type": "markdown",
   "metadata": {},
   "source": [
    "# Day 5: Supply Stacks\n",
    "\n",
    "# Part 1\n",
    "\n",
    "The expedition can depart as soon as the final supplies have been unloaded from the ships. Supplies are stored in stacks of marked `crates`, but because the needed supplies are buried under many other crates, the crates need to be rearranged.\n",
    "\n",
    "The ship has a `giant cargo crane` capable of moving crates between stacks. To ensure none of the crates get crushed or fall over, the crane operator will rearrange them in a series of carefully-planned steps. After the crates are rearranged, the desired crates will be at the top of each stack.\n",
    "\n",
    "The Elves don't want to interrupt the crane operator during this delicate procedure, but they forgot to ask her which crate will end up where, and they want to be ready to unload them as soon as possible so they can embark.\n",
    "\n",
    "They do, however, have a drawing of the starting stacks of crates and the rearrangement procedure (your puzzle input). For example:\n",
    "\n",
    "```\n",
    "    [D]    \n",
    "[N] [C]    \n",
    "[Z] [M] [P]\n",
    " 1   2   3 \n",
    "\n",
    "move 1 from 2 to 1\n",
    "move 3 from 1 to 3\n",
    "move 2 from 2 to 1\n",
    "move 1 from 1 to 2\n",
    "```\n",
    "In this example, there are three stacks of crates. Stack 1 contains two crates: crate Z is on the bottom, and crate N is on top. Stack 2 contains three crates; from bottom to top, they are crates M, C, and D. Finally, stack 3 contains a single crate, P.\n",
    "\n",
    "Then, the rearrangement procedure is given. In each step of the procedure, a quantity of crates is moved from one stack to a different stack. In the first step of the above rearrangement procedure, one crate is moved from stack 2 to stack 1, resulting in this configuration:\n",
    "\n",
    "```\n",
    "[D]        \n",
    "[N] [C]    \n",
    "[Z] [M] [P]\n",
    " 1   2   3 \n",
    " ```\n",
    "In the second step, three crates are moved from stack 1 to stack 3. Crates are moved one at a time, so the first crate to be moved (D) ends up below the second and third crates:\n",
    "```\n",
    "        [Z]\n",
    "        [N]\n",
    "    [C] [D]\n",
    "    [M] [P]\n",
    " 1   2   3\n",
    " ```\n",
    "Then, both crates are moved from stack 2 to stack 1. Again, because crates are moved one at a time, crate C ends up below crate M:\n",
    "\n",
    "```\n",
    "        [Z]\n",
    "        [N]\n",
    "[M]     [D]\n",
    "[C]     [P]\n",
    " 1   2   3\n",
    "```\n",
    "\n",
    "Finally, one crate is moved from stack 1 to stack 2:\n",
    "\n",
    "```\n",
    "        [Z]\n",
    "        [N]\n",
    "        [D]\n",
    "[C] [M] [P]\n",
    " 1   2   3\n",
    " ```\n",
    "\n",
    "The Elves just need to know which crate will end up on top of each stack; in this example, the top crates are C in stack 1, M in stack 2, and Z in stack 3, so you should combine these together and give the Elves the message CMZ.\n",
    "\n",
    "**After the rearrangement procedure completes, what crate ends up on top of each stack?**\n",
    "\n"
   ]
  },
  {
   "cell_type": "code",
   "execution_count": 1,
   "metadata": {},
   "outputs": [
    {
     "name": "stderr",
     "output_type": "stream",
     "text": [
      "Version 1.0.4\n"
     ]
    }
   ],
   "source": [
    "%load_ext nb_mypy"
   ]
  },
  {
   "cell_type": "code",
   "execution_count": 6,
   "metadata": {},
   "outputs": [
    {
     "ename": "RuntimeError",
     "evalue": "generator raised StopIteration",
     "output_type": "error",
     "traceback": [
      "\u001b[0;31m---------------------------------------------------------------------------\u001b[0m",
      "\u001b[0;31mStopIteration\u001b[0m                             Traceback (most recent call last)",
      "Cell \u001b[0;32mIn[6], line 15\u001b[0m, in \u001b[0;36mingest_input\u001b[0;34m(input_file)\u001b[0m\n\u001b[1;32m     14\u001b[0m \u001b[39mwhile\u001b[39;00m \u001b[39mnot\u001b[39;00m move_section:\n\u001b[0;32m---> 15\u001b[0m     line \u001b[39m=\u001b[39m \u001b[39mnext\u001b[39;49m(f_in)\n\u001b[1;32m     16\u001b[0m     \u001b[39mif\u001b[39;00m \u001b[39mnot\u001b[39;00m line:\n",
      "\u001b[0;31mStopIteration\u001b[0m: ",
      "\nThe above exception was the direct cause of the following exception:\n",
      "\u001b[0;31mRuntimeError\u001b[0m                              Traceback (most recent call last)",
      "Cell \u001b[0;32mIn[6], line 27\u001b[0m\n\u001b[1;32m     24\u001b[0m             \u001b[39mexcept\u001b[39;00m \u001b[39mStopIteration\u001b[39;00m:\n\u001b[1;32m     25\u001b[0m                 \u001b[39mbreak\u001b[39;00m\n\u001b[0;32m---> 27\u001b[0m \u001b[39mfor\u001b[39;00m i, line \u001b[39min\u001b[39;00m \u001b[39mzip\u001b[39m(\u001b[39mrange\u001b[39m(\u001b[39m15\u001b[39m), ingest_input(INPUT_FILE)):\n\u001b[1;32m     28\u001b[0m     \u001b[39mprint\u001b[39m(i, line)\n",
      "\u001b[0;31mRuntimeError\u001b[0m: generator raised StopIteration"
     ]
    }
   ],
   "source": [
    "from typing import Generator\n",
    "\n",
    "from pathlib import Path\n",
    "\n",
    "INPUT_FILE = Path.cwd() / \"inputs\" / \"day5.txt\"\n",
    "assert INPUT_FILE.exists(), INPUT_FILE\n",
    "\n",
    "def ingest_input(input_file: Path) -> Generator[str | list, None, None]:\n",
    "    starting_stacks: list[str] = []\n",
    "    move_section: bool = False\n",
    "\n",
    "    with open(input_file) as f_in:\n",
    "    \n",
    "        while not move_section:\n",
    "            line = next(f_in)\n",
    "            if not line:\n",
    "                yield starting_stacks\n",
    "                move_section = True\n",
    "            starting_stacks.append(line)\n",
    "        while True:\n",
    "            try:\n",
    "                line = next(f_in)\n",
    "                yield line\n",
    "            except StopIteration:\n",
    "                break\n",
    "\n",
    "for i, line in zip(range(15), ingest_input(INPUT_FILE)):\n",
    "    print(i, line)"
   ]
  },
  {
   "cell_type": "markdown",
   "metadata": {},
   "source": [
    "## Part Two\n",
    "It seems like there is still quite a bit of duplicate work planned. Instead, the Elves would like to know the number of pairs that overlap at all.\n",
    "\n",
    "In the above example, the first two pairs (2-4,6-8 and 2-3,4-5) don't overlap, while the remaining four pairs (5-7,7-9, 2-8,3-7, 6-6,4-6, and 2-6,4-8) do overlap:\n",
    "\n",
    "5-7,7-9 overlaps in a single section, 7.\n",
    "2-8,3-7 overlaps all of the sections 3 through 7.\n",
    "6-6,4-6 overlaps in a single section, 6.\n",
    "2-6,4-8 overlaps in sections 4, 5, and 6.\n",
    "So, in this example, the number of overlapping assignment pairs is 4.\n",
    "\n",
    "**In how many assignment pairs do the ranges overlap?**"
   ]
  },
  {
   "cell_type": "code",
   "execution_count": 3,
   "metadata": {},
   "outputs": [
    {
     "name": "stdout",
     "output_type": "stream",
     "text": [
      "\n",
      "overlap_count=909\n"
     ]
    }
   ],
   "source": [
    "def partial_overlap(r1: range, r2: range) -> bool:\n",
    "    r1_set = set(r1)\n",
    "    r2_set = set(r2)\n",
    "    for range_, set_ in zip((r1, r2), (r1_set, r2_set)):\n",
    "        set_.add(range_.stop)  # end of range should be included\n",
    "\n",
    "    if r1_set.intersection(r2_set):\n",
    "        return True\n",
    "    return False\n",
    "\n",
    "\n",
    "overlap_count = 0\n",
    "for i, pairs in enumerate(ingest_range_pairs(INPUT_FILE), start=1):\n",
    "\n",
    "    if partial_overlap(*pairs):\n",
    "        overlap_count += 1\n",
    "        # print(f\"{i} Overlap {pairs}\")\n",
    "\n",
    "print(f\"\\n{overlap_count=}\")"
   ]
  },
  {
   "cell_type": "markdown",
   "metadata": {},
   "source": [
    "## Alternate Solution using custom objects\n",
    "\n",
    "Would be more useful if you could do things like add and subtract intervals, but that's not needed for this exercise."
   ]
  },
  {
   "cell_type": "code",
   "execution_count": 4,
   "metadata": {},
   "outputs": [],
   "source": [
    "from __future__ import annotations\n",
    "\n",
    "class Interval:\n",
    "    _start: int\n",
    "    _stop: int\n",
    "    _range: range\n",
    "    _set: set[int]\n",
    "\n",
    "    def __init__(self, interval: str):\n",
    "        if not isinstance(interval, str):\n",
    "            raise TypeError(f\"Expected interval string in the format '1-99', got {type(interval)}\")\n",
    "\n",
    "        start, stop = interval.split(\"-\")\n",
    "        self._start = int(start)\n",
    "        self._stop = int(stop)\n",
    "        self._range = range(self._start, self._stop + 1)\n",
    "        self._set = set(self._range)\n",
    "\n",
    "    def __repr__(self) -> str:\n",
    "        return f\"Interval({self._start}, {self._stop})\"\n",
    "\n",
    "    def __eq__(self, other) -> bool:\n",
    "        if not isinstance(other, self.__class__):\n",
    "            return False\n",
    "        return self._start == other._start and self._stop == other._stop\n",
    "\n",
    "    def __contains__(self, other) -> bool:\n",
    "        return self._set.issuperset(set(other)) \n",
    "\n",
    "    def __iter__(self):\n",
    "        for i in self._range:\n",
    "            yield i\n",
    "\n",
    "    def intersection(self, other) -> set[int]:  # type: ignore[valid-type]\n",
    "        return self._set.intersection(set(other))"
   ]
  },
  {
   "cell_type": "code",
   "execution_count": 5,
   "metadata": {},
   "outputs": [],
   "source": [
    "a = Interval(\"1-10\")\n",
    "b = Interval(\"2-8\")\n",
    "A = Interval(\"1-10\")\n",
    "c = Interval(\"11-20\")\n",
    "\n",
    "assert a == A\n",
    "assert a != object()\n",
    "assert a != b\n",
    "assert b in a\n",
    "assert c not in a\n",
    "assert [1, 2] in a"
   ]
  },
  {
   "cell_type": "code",
   "execution_count": 6,
   "metadata": {},
   "outputs": [],
   "source": [
    "def ingest_intervals(input_file: Path) -> Generator[tuple[Interval, Interval], None, None]:\n",
    "    with open(input_file) as f_in:\n",
    "        for line in f_in:\n",
    "            s1, s2 = line.rstrip().split(\",\")\n",
    "            yield Interval(s1), Interval(s2)"
   ]
  },
  {
   "cell_type": "code",
   "execution_count": 7,
   "metadata": {},
   "outputs": [
    {
     "name": "stdout",
     "output_type": "stream",
     "text": [
      "\n",
      "full_overlap_count=518\n",
      "\n",
      "partial_overlap_count=909\n"
     ]
    }
   ],
   "source": [
    "full_overlap_count = 0\n",
    "partial_overlap_count = 0\n",
    "for i1, i2 in ingest_intervals(INPUT_FILE):\n",
    "\n",
    "    if i1 in i2 or i2 in i1:\n",
    "        full_overlap_count += 1\n",
    "\n",
    "    if i1.intersection(i2):\n",
    "        partial_overlap_count += 1\n",
    "\n",
    "print(f\"\\n{full_overlap_count=}\")\n",
    "print(f\"\\n{partial_overlap_count=}\")"
   ]
  }
 ],
 "metadata": {
  "kernelspec": {
   "display_name": "Python 3 (ipykernel)",
   "language": "python",
   "name": "python3"
  },
  "language_info": {
   "codemirror_mode": {
    "name": "ipython",
    "version": 3
   },
   "file_extension": ".py",
   "mimetype": "text/x-python",
   "name": "python",
   "nbconvert_exporter": "python",
   "pygments_lexer": "ipython3",
   "version": "3.10.8"
  },
  "orig_nbformat": 4
 },
 "nbformat": 4,
 "nbformat_minor": 2
}
