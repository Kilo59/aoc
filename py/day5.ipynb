{
 "cells": [
  {
   "cell_type": "markdown",
   "metadata": {},
   "source": [
    "# Day 5: Supply Stacks\n",
    "\n",
    "# Part 1\n",
    "\n",
    "The expedition can depart as soon as the final supplies have been unloaded from the ships. Supplies are stored in stacks of marked `crates`, but because the needed supplies are buried under many other crates, the crates need to be rearranged.\n",
    "\n",
    "The ship has a `giant cargo crane` capable of moving crates between stacks. To ensure none of the crates get crushed or fall over, the crane operator will rearrange them in a series of carefully-planned steps. After the crates are rearranged, the desired crates will be at the top of each stack.\n",
    "\n",
    "The Elves don't want to interrupt the crane operator during this delicate procedure, but they forgot to ask her which crate will end up where, and they want to be ready to unload them as soon as possible so they can embark.\n",
    "\n",
    "They do, however, have a drawing of the starting stacks of crates and the rearrangement procedure (your puzzle input). For example:\n",
    "\n",
    "```\n",
    "    [D]    \n",
    "[N] [C]    \n",
    "[Z] [M] [P]\n",
    " 1   2   3 \n",
    "\n",
    "move 1 from 2 to 1\n",
    "move 3 from 1 to 3\n",
    "move 2 from 2 to 1\n",
    "move 1 from 1 to 2\n",
    "```\n",
    "In this example, there are three stacks of crates. Stack 1 contains two crates: crate Z is on the bottom, and crate N is on top. Stack 2 contains three crates; from bottom to top, they are crates M, C, and D. Finally, stack 3 contains a single crate, P.\n",
    "\n",
    "Then, the rearrangement procedure is given. In each step of the procedure, a quantity of crates is moved from one stack to a different stack. In the first step of the above rearrangement procedure, one crate is moved from stack 2 to stack 1, resulting in this configuration:\n",
    "\n",
    "```\n",
    "[D]        \n",
    "[N] [C]    \n",
    "[Z] [M] [P]\n",
    " 1   2   3 \n",
    " ```\n",
    "In the second step, three crates are moved from stack 1 to stack 3. Crates are moved one at a time, so the first crate to be moved (D) ends up below the second and third crates:\n",
    "```\n",
    "        [Z]\n",
    "        [N]\n",
    "    [C] [D]\n",
    "    [M] [P]\n",
    " 1   2   3\n",
    " ```\n",
    "Then, both crates are moved from stack 2 to stack 1. Again, because crates are moved one at a time, crate C ends up below crate M:\n",
    "\n",
    "```\n",
    "        [Z]\n",
    "        [N]\n",
    "[M]     [D]\n",
    "[C]     [P]\n",
    " 1   2   3\n",
    "```\n",
    "\n",
    "Finally, one crate is moved from stack 1 to stack 2:\n",
    "\n",
    "```\n",
    "        [Z]\n",
    "        [N]\n",
    "        [D]\n",
    "[C] [M] [P]\n",
    " 1   2   3\n",
    " ```\n",
    "\n",
    "The Elves just need to know which crate will end up on top of each stack; in this example, the top crates are C in stack 1, M in stack 2, and Z in stack 3, so you should combine these together and give the Elves the message CMZ.\n",
    "\n",
    "**After the rearrangement procedure completes, what crate ends up on top of each stack?**\n",
    "\n"
   ]
  },
  {
   "cell_type": "code",
   "execution_count": 1,
   "metadata": {},
   "outputs": [
    {
     "name": "stderr",
     "output_type": "stream",
     "text": [
      "Version 1.0.4\n"
     ]
    }
   ],
   "source": [
    "%load_ext nb_mypy"
   ]
  },
  {
   "cell_type": "code",
   "execution_count": 2,
   "metadata": {},
   "outputs": [
    {
     "name": "stdout",
     "output_type": "stream",
     "text": [
      "0 <class 'str'>\n",
      "                [M]     [W] [M]\n",
      "            [L] [Q] [S] [C] [R]\n",
      "            [Q] [F] [F] [T] [N] [S]\n",
      "    [N]     [V] [V] [H] [L] [J] [D]\n",
      "    [D] [D] [W] [P] [G] [R] [D] [F]\n",
      "[T] [T] [M] [G] [G] [Q] [N] [W] [L]\n",
      "[Z] [H] [F] [J] [D] [Z] [S] [H] [Q]\n",
      "[B] [V] [B] [T] [W] [V] [Z] [Z] [M]\n",
      " 1   2   3   4   5   6   7   8   9\n",
      "\n",
      "1 <class 'str'>\n",
      "move 1 from 7 to 4\n",
      "\n",
      "2 <class 'str'>\n",
      "move 1 from 6 to 2\n",
      "\n",
      "3 <class 'str'>\n",
      "move 5 from 9 to 4\n",
      "\n",
      "4 <class 'str'>\n",
      "move 2 from 2 to 8\n",
      "\n"
     ]
    }
   ],
   "source": [
    "from typing import Generator\n",
    "\n",
    "from pathlib import Path\n",
    "\n",
    "INPUT_FILE = Path.cwd() / \"inputs\" / \"day5.txt\"\n",
    "assert INPUT_FILE.exists(), INPUT_FILE\n",
    "\n",
    "def ingest_input(input_file: Path) -> Generator[str | list, None, None]:\n",
    "    starting_stacks: list[str] = []\n",
    "\n",
    "    with open(input_file) as f_in:\n",
    "    \n",
    "        while True:\n",
    "            line = next(f_in)\n",
    "            if line == \"\\n\": # starting stacks section ends\n",
    "                yield \"\".join(starting_stacks)\n",
    "                break\n",
    "            starting_stacks.append(line)\n",
    "\n",
    "        while True:\n",
    "            try:\n",
    "                line = next(f_in)\n",
    "                yield line\n",
    "            except StopIteration:\n",
    "                break\n",
    "\n",
    "for i, line in zip(range(5), ingest_input(INPUT_FILE)):\n",
    "    print(i, type(line))\n",
    "    print(line)"
   ]
  },
  {
   "cell_type": "markdown",
   "metadata": {},
   "source": [
    "## Part Two\n"
   ]
  }
 ],
 "metadata": {
  "kernelspec": {
   "display_name": "Python 3 (ipykernel)",
   "language": "python",
   "name": "python3"
  },
  "language_info": {
   "codemirror_mode": {
    "name": "ipython",
    "version": 3
   },
   "file_extension": ".py",
   "mimetype": "text/x-python",
   "name": "python",
   "nbconvert_exporter": "python",
   "pygments_lexer": "ipython3",
   "version": "3.10.8"
  },
  "orig_nbformat": 4
 },
 "nbformat": 4,
 "nbformat_minor": 2
}
