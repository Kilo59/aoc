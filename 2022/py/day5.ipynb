{
 "cells": [
  {
   "cell_type": "markdown",
   "metadata": {},
   "source": [
    "# Day 5: Supply Stacks\n",
    "\n",
    "# Part 1\n",
    "\n",
    "The expedition can depart as soon as the final supplies have been unloaded from the ships. Supplies are stored in stacks of marked `crates`, but because the needed supplies are buried under many other crates, the crates need to be rearranged.\n",
    "\n",
    "The ship has a `giant cargo crane` capable of moving crates between stacks. To ensure none of the crates get crushed or fall over, the crane operator will rearrange them in a series of carefully-planned steps. After the crates are rearranged, the desired crates will be at the top of each stack.\n",
    "\n",
    "The Elves don't want to interrupt the crane operator during this delicate procedure, but they forgot to ask her which crate will end up where, and they want to be ready to unload them as soon as possible so they can embark.\n",
    "\n",
    "They do, however, have a drawing of the starting stacks of crates and the rearrangement procedure (your puzzle input). For example:\n",
    "\n",
    "```\n",
    "    [D]\n",
    "[N] [C]\n",
    "[Z] [M] [P]\n",
    " 1   2   3\n",
    "\n",
    "move 1 from 2 to 1\n",
    "move 3 from 1 to 3\n",
    "move 2 from 2 to 1\n",
    "move 1 from 1 to 2\n",
    "```\n",
    "\n",
    "In this example, there are three stacks of crates. Stack 1 contains two crates: crate Z is on the bottom, and crate N is on top. Stack 2 contains three crates; from bottom to top, they are crates M, C, and D. Finally, stack 3 contains a single crate, P.\n",
    "\n",
    "Then, the rearrangement procedure is given. In each step of the procedure, a quantity of crates is moved from one stack to a different stack. In the first step of the above rearrangement procedure, one crate is moved from stack 2 to stack 1, resulting in this configuration:\n",
    "\n",
    "```\n",
    "[D]\n",
    "[N] [C]\n",
    "[Z] [M] [P]\n",
    " 1   2   3\n",
    "```\n",
    "\n",
    "In the second step, three crates are moved from stack 1 to stack 3. Crates are moved one at a time, so the first crate to be moved (D) ends up below the second and third crates:\n",
    "\n",
    "```\n",
    "        [Z]\n",
    "        [N]\n",
    "    [C] [D]\n",
    "    [M] [P]\n",
    " 1   2   3\n",
    "```\n",
    "\n",
    "Then, both crates are moved from stack 2 to stack 1. Again, because crates are moved one at a time, crate C ends up below crate M:\n",
    "\n",
    "```\n",
    "        [Z]\n",
    "        [N]\n",
    "[M]     [D]\n",
    "[C]     [P]\n",
    " 1   2   3\n",
    "```\n",
    "\n",
    "Finally, one crate is moved from stack 1 to stack 2:\n",
    "\n",
    "```\n",
    "        [Z]\n",
    "        [N]\n",
    "        [D]\n",
    "[C] [M] [P]\n",
    " 1   2   3\n",
    "```\n",
    "\n",
    "The Elves just need to know which crate will end up on top of each stack; in this example, the top crates are C in stack 1, M in stack 2, and Z in stack 3, so you should combine these together and give the Elves the message CMZ.\n",
    "\n",
    "**After the rearrangement procedure completes, what crate ends up on top of each stack?**\n"
   ]
  },
  {
   "cell_type": "code",
   "execution_count": 1,
   "metadata": {},
   "outputs": [
    {
     "name": "stderr",
     "output_type": "stream",
     "text": [
      "Version 1.0.4\n"
     ]
    }
   ],
   "source": [
    "%load_ext nb_mypy"
   ]
  },
  {
   "cell_type": "code",
   "execution_count": null,
   "metadata": {},
   "outputs": [
    {
     "data": {
      "text/plain": [
       "[Stack(['B', 'Z', 'T']),\n",
       " Stack(['V', 'H', 'T', 'D', 'N']),\n",
       " Stack(['B', 'F', 'M', 'D']),\n",
       " Stack(['T', 'J', 'G', 'W', 'V', 'Q', 'L']),\n",
       " Stack(['W', 'D', 'G', 'P', 'V', 'F', 'Q', 'M']),\n",
       " Stack(['V', 'Z', 'Q', 'G', 'H', 'F', 'S']),\n",
       " Stack(['Z', 'S', 'N', 'R', 'L', 'T', 'C', 'W']),\n",
       " Stack(['Z', 'H', 'W', 'D', 'J', 'N', 'R', 'M']),\n",
       " Stack(['M', 'Q', 'L', 'F', 'D', 'S'])]"
      ]
     },
     "metadata": {},
     "output_type": "display_data"
    },
    {
     "name": "stdout",
     "output_type": "stream",
     "text": [
      "Partion Stack\n",
      "-------------\n",
      "  -Initial-"
     ]
    },
    {
     "data": {
      "text/plain": [
       "Stack(['M', 'Q', 'L', 'F', 'D', 'S'])"
      ]
     },
     "metadata": {},
     "output_type": "display_data"
    },
    {
     "name": "stdout",
     "output_type": "stream",
     "text": [
      "  -Final-\n"
     ]
    },
    {
     "data": {
      "text/plain": [
       "Stack(['M', 'Q', 'L', 'F'])"
      ]
     },
     "metadata": {},
     "output_type": "display_data"
    },
    {
     "data": {
      "text/plain": [
       "Stack(['D', 'S'])"
      ]
     },
     "metadata": {},
     "output_type": "display_data"
    },
    {
     "name": "stdout",
     "output_type": "stream",
     "text": [
      "Combine Stacks\n",
      "---------------\n"
     ]
    },
    {
     "data": {
      "text/plain": [
       "Stack(['D', 'S', 'M', 'Q', 'L', 'F'])"
      ]
     },
     "metadata": {},
     "output_type": "display_data"
    }
   ],
   "source": [
    "from __future__ import annotations\n",
    "\n",
    "from collections import deque\n",
    "from typing import Generator, Iterable, Generic, TypeVar\n",
    "\n",
    "T = TypeVar(\"T\")\n",
    "\n",
    "\n",
    "class Stack(Generic[T]):\n",
    "    _deque: deque\n",
    "    black_list: list\n",
    "\n",
    "    def __init__(\n",
    "        self, items: Iterable[T] | None = None, black_list: list | None = None\n",
    "    ) -> None:\n",
    "        self._deque = deque(items) if items else deque()\n",
    "        self.black_list = black_list or []\n",
    "\n",
    "    def __len__(self) -> int:\n",
    "        return len(self._deque)\n",
    "\n",
    "    def __iadd__(self, other: Stack):\n",
    "        self._deque += other._deque\n",
    "        return self\n",
    "\n",
    "    def __repr__(self) -> str:\n",
    "        return f\"Stack{repr(self._deque)[5:]}\"\n",
    "\n",
    "    def partition(self, quantity) -> Stack[T]:\n",
    "        \"\"\"Slices off and returns a new stack composed of the top `n` items.\"\"\"\n",
    "        partitioned_items = [self._deque.pop() for _ in range(quantity)]\n",
    "        return Stack(reversed(partitioned_items))\n",
    "\n",
    "    def append(self, item: T):\n",
    "        self._deque.append(item)\n",
    "\n",
    "    def add(self, item: T):\n",
    "        if item in self.black_list:\n",
    "            raise ValueError(f\"{item} is on `black_list` - {self.black_list}\")\n",
    "        self.append(item)\n",
    "\n",
    "    def pop(self) -> T:\n",
    "        try:\n",
    "            return self._deque.pop()\n",
    "        except IndexError as empty_exc:\n",
    "            raise IndexError(\"Stack is empty\") from empty_exc\n",
    "\n",
    "    @classmethod\n",
    "    def _parse_line(cls, line: str) -> list[str]:\n",
    "        return list(line[1::4])\n",
    "\n",
    "    @classmethod\n",
    "    def from_2d_array(\n",
    "        cls, array: list[list[T]], black_list: list | None = None\n",
    "    ) -> list[Stack[T]]:\n",
    "        black_list = black_list or []\n",
    "        # assume all rows are same length\n",
    "        stacks = [cls(black_list=black_list) for _ in range(len(array[0]))]\n",
    "\n",
    "        # starting from bottom row\n",
    "        for row in array[::-1]:\n",
    "            for idx, item in enumerate(row):\n",
    "                if item not in black_list:\n",
    "                    stacks[idx].add(item)\n",
    "        return stacks\n",
    "\n",
    "    @classmethod\n",
    "    def from_diagram(cls, diagram_txt: str) -> list[Stack[str]]:\n",
    "        _2d_array = [cls._parse_line(ln) for ln in diagram_txt.splitlines()]\n",
    "        return cls.from_2d_array(_2d_array, black_list=[\" \"])  # type: ignore[arg-type,return-value]\n",
    "\n",
    "\n",
    "diagram = \"\"\"                [M]     [W] [M]    \n",
    "            [L] [Q] [S] [C] [R]    \n",
    "            [Q] [F] [F] [T] [N] [S]\n",
    "    [N]     [V] [V] [H] [L] [J] [D]\n",
    "    [D] [D] [W] [P] [G] [R] [D] [F]\n",
    "[T] [T] [M] [G] [G] [Q] [N] [W] [L]\n",
    "[Z] [H] [F] [J] [D] [Z] [S] [H] [Q]\n",
    "[B] [V] [B] [T] [W] [V] [Z] [Z] [M]\n",
    "\"\"\"\n",
    "\n",
    "stacks = Stack.from_diagram(diagram)\n",
    "display(stacks)  # type: ignore[name-defined]\n",
    "\n",
    "print(\"Partion Stack\\n-------------\")\n",
    "last_stack = stacks[-1]\n",
    "print(\"  -Initial-\", end=\"\")\n",
    "display(last_stack)\n",
    "\n",
    "new_stack = last_stack.partition(2)\n",
    "print(\"  -Final-\")\n",
    "display(last_stack, new_stack)\n",
    "\n",
    "\n",
    "print(\"Combine Stacks\\n---------------\")\n",
    "new_stack += last_stack\n",
    "display(new_stack)"
   ]
  },
  {
   "cell_type": "code",
   "execution_count": 3,
   "metadata": {},
   "outputs": [
    {
     "name": "stdout",
     "output_type": "stream",
     "text": [
      "CargoShip |3|5|4|7|8|7|8|8|4|\n",
      "CargoShip |1|7|4|7|8|7|8|8|4|\n"
     ]
    }
   ],
   "source": [
    "from typing import NamedTuple\n",
    "\n",
    "\n",
    "class Instruction(NamedTuple):\n",
    "    quantity: int\n",
    "    source_idx: int\n",
    "    target_idx: int\n",
    "\n",
    "    @classmethod\n",
    "    def parse_line(cls, line: str) -> Instruction:\n",
    "        _, q, _, s, _, t = line.split(\" \")\n",
    "        return cls(int(q), int(s), int(t))\n",
    "\n",
    "\n",
    "KT = TypeVar(\"KT\", bound=int)\n",
    "VT = TypeVar(\"VT\", bound=Stack)\n",
    "\n",
    "\n",
    "class CargoShip(Generic[KT, VT]):\n",
    "    cargo: list[VT]\n",
    "\n",
    "    @property\n",
    "    def total_cargo(self):\n",
    "        return sum(len(c) for c in self.cargo)\n",
    "\n",
    "    def __init__(self, cargo: list[VT] | None = None):\n",
    "        self.cargo = cargo or []\n",
    "\n",
    "    def __len__(self) -> int:\n",
    "        return len(self.cargo)\n",
    "\n",
    "    def __repr__(self) -> str:\n",
    "        return f\"{type(self).__name__} |{'|'.join([str(len(c)) for c in self.cargo])}|\"\n",
    "\n",
    "    def __getitem__(self, idx: KT) -> VT:\n",
    "        adjusted_idx = idx - 1\n",
    "        num_cargo = len(self)\n",
    "        if not idx or idx > num_cargo:\n",
    "            raise IndexError(f\"Incompatible `idx` {idx} expected 1 - {num_cargo}\")\n",
    "        return self.cargo[adjusted_idx]\n",
    "\n",
    "    def move_cargo(self, source_idx: int, target_idx: int, quantity: int = 1):\n",
    "        for _ in range(quantity):\n",
    "            source_stack = self[source_idx]  # type: ignore[index]\n",
    "            target_stack = self[target_idx]  # type: ignore[index]\n",
    "            # print(f\"{self}...\\n{source_stack} -> {target_stack}\")\n",
    "\n",
    "            item = source_stack.pop()\n",
    "            target_stack.add(item)\n",
    "            # print(f\"{source_stack} -> {target_stack}\\n...{self}\")\n",
    "\n",
    "    def process_instruction(self, instruction: Instruction):\n",
    "        initial_cargo = self.total_cargo\n",
    "        self.move_cargo(\n",
    "            instruction.source_idx, instruction.target_idx, instruction.quantity\n",
    "        )\n",
    "        assert self.total_cargo == initial_cargo\n",
    "\n",
    "\n",
    "cs: CargoShip = CargoShip(stacks)\n",
    "cs[1]\n",
    "cs[9]\n",
    "\n",
    "print(cs)\n",
    "cs.process_instruction(Instruction(2, 1, 2))\n",
    "print(cs)"
   ]
  },
  {
   "cell_type": "code",
   "execution_count": 4,
   "metadata": {},
   "outputs": [
    {
     "name": "stdout",
     "output_type": "stream",
     "text": [
      "Initial state\n",
      "CargoShip |3|5|4|7|8|7|8|8|6|\n"
     ]
    },
    {
     "data": {
      "text/plain": [
       "[Stack(['B', 'Z', 'T']),\n",
       " Stack(['V', 'H', 'T', 'D', 'N']),\n",
       " Stack(['B', 'F', 'M', 'D']),\n",
       " Stack(['T', 'J', 'G', 'W', 'V', 'Q', 'L']),\n",
       " Stack(['W', 'D', 'G', 'P', 'V', 'F', 'Q', 'M']),\n",
       " Stack(['V', 'Z', 'Q', 'G', 'H', 'F', 'S']),\n",
       " Stack(['Z', 'S', 'N', 'R', 'L', 'T', 'C', 'W']),\n",
       " Stack(['Z', 'H', 'W', 'D', 'J', 'N', 'R', 'M']),\n",
       " Stack(['M', 'Q', 'L', 'F', 'D', 'S'])]"
      ]
     },
     "execution_count": 4,
     "metadata": {},
     "output_type": "execute_result"
    }
   ],
   "source": [
    "from pathlib import Path\n",
    "from typing import NamedTuple\n",
    "\n",
    "INPUT_FILE = Path.cwd() / \"inputs\" / \"day5.txt\"\n",
    "assert INPUT_FILE.exists(), INPUT_FILE\n",
    "\n",
    "\n",
    "def extract_initial_cargo_stacks(input_file: Path) -> list[Stack]:\n",
    "    starting_stacks: list[str] = []\n",
    "    with open(input_file) as f_in:\n",
    "        while True:\n",
    "            line = next(f_in)\n",
    "            if line == \"\\n\":  # starting stacks section ends\n",
    "                starting_stacks = starting_stacks[:-1]  # remove the unneeded stack labels\n",
    "                return Stack.from_diagram(\"\".join(starting_stacks))\n",
    "            starting_stacks.append(line)\n",
    "\n",
    "\n",
    "def extract_instructions(input_file: Path) -> Generator[Instruction, None, None]:\n",
    "    with open(input_file) as f_in:\n",
    "        line = next(f_in)\n",
    "        while not line.startswith(\"\\n\"):\n",
    "            line = next(f_in)\n",
    "        while True:\n",
    "            try:\n",
    "                line = next(f_in)\n",
    "                yield Instruction.parse_line(line)\n",
    "            except StopIteration:\n",
    "                break\n",
    "\n",
    "\n",
    "stacks = extract_initial_cargo_stacks(INPUT_FILE)\n",
    "ship: CargoShip = CargoShip(stacks)\n",
    "print(f\"Initial state\\n{ship}\")\n",
    "ship.cargo"
   ]
  },
  {
   "cell_type": "code",
   "execution_count": 5,
   "metadata": {},
   "outputs": [
    {
     "name": "stdout",
     "output_type": "stream",
     "text": [
      "\n",
      "Final state\n",
      "CargoShip |11|5|2|2|3|18|11|1|3|\n"
     ]
    },
    {
     "data": {
      "text/plain": [
       "[Stack(['J', 'C', 'L', 'D', 'R', 'G', 'T', 'L', 'M', 'H', 'N']),\n",
       " Stack(['Q', 'D', 'V', 'F', 'T']),\n",
       " Stack(['D', 'W']),\n",
       " Stack(['R', 'Z']),\n",
       " Stack(['J', 'M', 'Z']),\n",
       " Stack(['W', 'S', 'D', 'L', 'Q', 'F', 'Z', 'M', 'H', 'T', 'P', 'N', 'B', 'V', 'Z', 'B', 'V', 'W']),\n",
       " Stack(['D', 'G', 'T', 'G', 'N', 'Q', 'W', 'Q', 'S', 'F', 'H']),\n",
       " Stack(['F']),\n",
       " Stack(['S', 'M', 'V'])]"
      ]
     },
     "execution_count": 5,
     "metadata": {},
     "output_type": "execute_result"
    }
   ],
   "source": [
    "for i, instr in enumerate(extract_instructions(INPUT_FILE), start=11):\n",
    "    try:\n",
    "        ship.process_instruction(instr)\n",
    "    except IndexError as err:\n",
    "        print(f\"{instr} {i=} {err}\")\n",
    "\n",
    "print(f\"\\nFinal state\\n{ship}\")\n",
    "ship.cargo"
   ]
  },
  {
   "cell_type": "code",
   "execution_count": 6,
   "metadata": {},
   "outputs": [
    {
     "name": "stdout",
     "output_type": "stream",
     "text": [
      "1 N\n",
      "2 T\n",
      "3 W\n",
      "4 Z\n",
      "5 Z\n",
      "6 W\n",
      "7 H\n",
      "8 F\n",
      "9 V\n"
     ]
    },
    {
     "data": {
      "text/plain": [
       "'NTWZZWHFV'"
      ]
     },
     "execution_count": 6,
     "metadata": {},
     "output_type": "execute_result"
    }
   ],
   "source": [
    "top_items: list[str] = []\n",
    "for stack_number, stack in enumerate(ship.cargo, start=1):\n",
    "    top = stack.pop()\n",
    "    print(stack_number, top)\n",
    "    top_items.append(top)\n",
    "\"\".join(top_items)"
   ]
  },
  {
   "cell_type": "markdown",
   "metadata": {},
   "source": [
    "## Part Two\n",
    "\n",
    "As you watch the crane operator expertly rearrange the crates, you notice the process isn't following your prediction.\n",
    "\n",
    "Some mud was covering the writing on the side of the crane, and you quickly wipe it away. The crane isn't a CrateMover 9000 - it's a CrateMover 9001.\n",
    "\n",
    "The CrateMover 9001 is notable for many new and exciting features: air conditioning, leather seats, an extra cup holder, and the ability to pick up and move multiple crates at once.\n",
    "\n",
    "Again considering the example above, the crates begin in the same configuration:\n",
    "\n",
    "```\n",
    "    [D]    \n",
    "[N] [C]    \n",
    "[Z] [M] [P]\n",
    " 1   2   3 \n",
    "```\n",
    "Moving a single crate from stack 2 to stack 1 behaves the same as before:\n",
    "\n",
    "```\n",
    "[D]        \n",
    "[N] [C]    \n",
    "[Z] [M] [P]\n",
    " 1   2   3 \n",
    "```\n",
    "However, the action of moving three crates from stack 1 to stack 3 means that those three moved crates stay in the same order, resulting in this new configuration:\n",
    "```\n",
    "        [D]\n",
    "        [N]\n",
    "    [C] [Z]\n",
    "    [M] [P]\n",
    " 1   2   3\n",
    "```\n",
    "Next, as both crates are moved from stack 2 to stack 1, they retain their order as well:\n",
    "\n",
    "```\n",
    "        [D]\n",
    "        [N]\n",
    "[C]     [Z]\n",
    "[M]     [P]\n",
    " 1   2   3\n",
    "```\n",
    "Finally, a single crate is still moved from stack 1 to stack 2, but now it's crate C that gets moved:\n",
    "\n",
    "```\n",
    "        [D]\n",
    "        [N]\n",
    "        [Z]\n",
    "[M] [C] [P]\n",
    " 1   2   3\n",
    "```\n",
    "In this example, the CrateMover 9001 has put the crates in a totally different order: MCD.\n",
    "\n",
    "Before the rearrangement process finishes, update your simulation so that the Elves know where they should stand to be ready to unload the final supplies. **After the rearrangement procedure completes, what crate ends up on top of each stack?**"
   ]
  },
  {
   "cell_type": "code",
   "execution_count": 7,
   "metadata": {},
   "outputs": [],
   "source": [
    "class CrateMover9001(CargoShip):\n",
    "    def move_cargo(self, source_idx: int, target_idx: int, quantity: int = 1):\n",
    "        source_stack = self[source_idx]  # type: ignore[index]\n",
    "        target_stack = self[target_idx]  # type: ignore[index]\n",
    "\n",
    "        in_trasit_stack = source_stack.partition(quantity)\n",
    "        target_stack += in_trasit_stack"
   ]
  },
  {
   "cell_type": "code",
   "execution_count": 8,
   "metadata": {},
   "outputs": [
    {
     "name": "stdout",
     "output_type": "stream",
     "text": [
      "Initial state\n",
      "CrateMover9001 |3|5|4|7|8|7|8|8|6|\n"
     ]
    },
    {
     "data": {
      "text/plain": [
       "[Stack(['B', 'Z', 'T']),\n",
       " Stack(['V', 'H', 'T', 'D', 'N']),\n",
       " Stack(['B', 'F', 'M', 'D']),\n",
       " Stack(['T', 'J', 'G', 'W', 'V', 'Q', 'L']),\n",
       " Stack(['W', 'D', 'G', 'P', 'V', 'F', 'Q', 'M']),\n",
       " Stack(['V', 'Z', 'Q', 'G', 'H', 'F', 'S']),\n",
       " Stack(['Z', 'S', 'N', 'R', 'L', 'T', 'C', 'W']),\n",
       " Stack(['Z', 'H', 'W', 'D', 'J', 'N', 'R', 'M']),\n",
       " Stack(['M', 'Q', 'L', 'F', 'D', 'S'])]"
      ]
     },
     "execution_count": 8,
     "metadata": {},
     "output_type": "execute_result"
    }
   ],
   "source": [
    "# INPUT_FILE = INPUT_FILE.parent / \"day5-p2.test\"\n",
    "\n",
    "stacks2 = extract_initial_cargo_stacks(INPUT_FILE)\n",
    "ship2: CrateMover9001 = CrateMover9001(stacks2)\n",
    "print(f\"Initial state\\n{ship2}\")\n",
    "ship2.cargo"
   ]
  },
  {
   "cell_type": "code",
   "execution_count": 9,
   "metadata": {},
   "outputs": [
    {
     "name": "stdout",
     "output_type": "stream",
     "text": [
      "\n",
      "Final state\n",
      "CrateMover9001 |11|5|2|2|3|18|11|1|3|\n"
     ]
    },
    {
     "data": {
      "text/plain": [
       "[Stack(['D', 'Q', 'T', 'F', 'L', 'J', 'Q', 'V', 'M', 'M', 'B']),\n",
       " Stack(['Z', 'N', 'N', 'P', 'R']),\n",
       " Stack(['G', 'Z']),\n",
       " Stack(['L', 'G']),\n",
       " Stack(['V', 'H', 'F']),\n",
       " Stack(['D', 'W', 'M', 'F', 'H', 'S', 'L', 'Q', 'W', 'T', 'T', 'V', 'D', 'Z', 'D', 'W', 'H', 'V']),\n",
       " Stack(['D', 'F', 'W', 'G', 'S', 'R', 'M', 'Q', 'Z', 'S', 'B']),\n",
       " Stack(['T']),\n",
       " Stack(['N', 'C', 'J'])]"
      ]
     },
     "execution_count": 9,
     "metadata": {},
     "output_type": "execute_result"
    }
   ],
   "source": [
    "for i, instr in enumerate(extract_instructions(INPUT_FILE), start=11):\n",
    "    try:\n",
    "        ship2.process_instruction(instr)\n",
    "    except IndexError as err:\n",
    "        print(f\"{instr} {i=} {err}\")\n",
    "\n",
    "print(f\"\\nFinal state\\n{ship2}\")\n",
    "ship2.cargo"
   ]
  },
  {
   "cell_type": "code",
   "execution_count": 10,
   "metadata": {},
   "outputs": [
    {
     "data": {
      "text/plain": [
       "'BRZGFVBTJ'"
      ]
     },
     "execution_count": 10,
     "metadata": {},
     "output_type": "execute_result"
    }
   ],
   "source": [
    "top_items: list[str] = []\n",
    "for stack_number, stack in enumerate(ship2.cargo, start=1):\n",
    "    top = stack.pop()\n",
    "    top_items.append(top)\n",
    "\"\".join(top_items)"
   ]
  }
 ],
 "metadata": {
  "kernelspec": {
   "display_name": "Python 3 (ipykernel)",
   "language": "python",
   "name": "python3"
  },
  "language_info": {
   "codemirror_mode": {
    "name": "ipython",
    "version": 3
   },
   "file_extension": ".py",
   "mimetype": "text/x-python",
   "name": "python",
   "nbconvert_exporter": "python",
   "pygments_lexer": "ipython3",
   "version": "3.10.8"
  }
 },
 "nbformat": 4,
 "nbformat_minor": 4
}
