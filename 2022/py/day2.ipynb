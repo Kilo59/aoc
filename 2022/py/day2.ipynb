{
 "cells": [
  {
   "cell_type": "markdown",
   "id": "33ec448e-7d9b-47cf-8d0b-6433b02cd676",
   "metadata": {},
   "source": [
    "# Day 2: Rock Paper Scissors\n",
    "\n",
    "## Part 1 \n",
    "\n",
    "The Elves begin to set up camp on the beach. To decide whose tent gets to be closest to the snack storage, a giant Rock Paper Scissors tournament is already in progress.\n",
    "\n",
    "Rock Paper Scissors is a game between two players. Each game contains many rounds; in each round, the players each simultaneously choose one of Rock, Paper, or Scissors using a hand shape. Then, a winner for that round is selected: Rock defeats Scissors, Scissors defeats Paper, and Paper defeats Rock. If both players choose the same shape, the round instead ends in a draw.\n",
    "\n",
    "Appreciative of your help yesterday, one Elf gives you an encrypted strategy guide (your puzzle input) that they say will be sure to help you win. \"The first column is what your opponent is going to play: A for Rock, B for Paper, and C for Scissors. The second column--\" Suddenly, the Elf is called away to help with someone's tent.\n",
    "\n",
    "The second column, you reason, must be what you should play in response: X for Rock, Y for Paper, and Z for Scissors. Winning every time would be suspicious, so the responses must have been carefully chosen.\n",
    "\n",
    "The winner of the whole tournament is the player with the highest score. Your total score is the sum of your scores for each round. The score for a single round is the score for the shape you selected (1 for Rock, 2 for Paper, and 3 for Scissors) plus the score for the outcome of the round (0 if you lost, 3 if the round was a draw, and 6 if you won).\n",
    "\n",
    "Since you can't be sure if the Elf is trying to help you or trick you, you should calculate the score you would get if you were to follow the strategy guide.\n",
    "\n",
    "For example, suppose you were given the following strategy guide:\n",
    "```\n",
    "A Y\n",
    "B X\n",
    "C Z\n",
    "```\n",
    "This strategy guide predicts and recommends the following:\n",
    "\n",
    "In the first round, your opponent will choose Rock (A), and you should choose Paper (Y). This ends in a win for you with a score of 8 (2 because you chose Paper + 6 because you won).\n",
    "In the second round, your opponent will choose Paper (B), and you should choose Rock (X). This ends in a loss for you with a score of 1 (1 + 0).\n",
    "The third round is a draw with both players choosing Scissors, giving you a score of 3 + 3 = 6.\n",
    "In this example, if you were to follow the strategy guide, you would get a total score of 15 (8 + 1 + 6).\n",
    "\n",
    "What would your total score be if everything goes exactly according to your strategy guide?"
   ]
  },
  {
   "cell_type": "code",
   "execution_count": 1,
   "id": "7c1355d0-26fd-4e91-92c8-e4bc6af6895e",
   "metadata": {},
   "outputs": [
    {
     "name": "stderr",
     "output_type": "stream",
     "text": [
      "Version 1.0.4\n"
     ]
    }
   ],
   "source": [
    "%load_ext nb_mypy"
   ]
  },
  {
   "cell_type": "code",
   "execution_count": 2,
   "id": "d7f1b047-a82d-4671-8889-4767c7c35e9e",
   "metadata": {},
   "outputs": [
    {
     "data": {
      "text/plain": [
       "True"
      ]
     },
     "execution_count": 2,
     "metadata": {},
     "output_type": "execute_result"
    }
   ],
   "source": [
    "from __future__ import annotations\n",
    "\n",
    "from typing import ClassVar\n",
    "\n",
    "\n",
    "class Item:\n",
    "    score: ClassVar[int]\n",
    "\n",
    "    @property\n",
    "    def beats(self) -> type[Item]:\n",
    "        # can't define this as a class level attribute because classes hasn't been defined yet\n",
    "        raise NotImplementedError(\n",
    "            f\"{self.__class__.__name__} must return the class it beats\"\n",
    "        )\n",
    "\n",
    "    def __gt__(self, other: Item) -> bool:\n",
    "        return isinstance(other, self.beats)\n",
    "\n",
    "    def __eq__(self, other: object) -> bool:\n",
    "        return self.__class__ == other.__class__\n",
    "\n",
    "    def __repr__(self) -> str:\n",
    "        return self.__class__.__name__ + \"!\"\n",
    "\n",
    "    def __hash__(self) -> int:\n",
    "        \"\"\"Return ASCII code of the first character.\"\"\"\n",
    "        # Needed for lru & set operations in part 2\n",
    "        return ord(self.__class__.__name__[0])\n",
    "\n",
    "\n",
    "class Rock(Item):\n",
    "    score = 1\n",
    "\n",
    "    @property\n",
    "    def beats(self):\n",
    "        return Scissors\n",
    "\n",
    "\n",
    "class Paper(Item):\n",
    "    score = 2\n",
    "\n",
    "    @property\n",
    "    def beats(self):\n",
    "        return Rock\n",
    "\n",
    "\n",
    "class Scissors(Item):\n",
    "    score = 3\n",
    "\n",
    "    @property\n",
    "    def beats(self):\n",
    "        return Paper\n",
    "\n",
    "\n",
    "r = Rock()\n",
    "p = Paper()\n",
    "s = Scissors()\n",
    "\n",
    "assert r == Rock()\n",
    "assert r > s\n",
    "assert s < r\n",
    "assert s > p\n",
    "assert p > r\n",
    "\n",
    "r > s > p > r"
   ]
  },
  {
   "cell_type": "code",
   "execution_count": 3,
   "id": "7f544f45-d6d5-4100-9615-a9ec746ab7be",
   "metadata": {},
   "outputs": [
    {
     "data": {
      "text/plain": [
       "True"
      ]
     },
     "execution_count": 3,
     "metadata": {},
     "output_type": "execute_result"
    }
   ],
   "source": [
    "import enum\n",
    "\n",
    "\n",
    "class OpponentPick(str, enum.Enum):\n",
    "    ROCK = \"A\"\n",
    "    PAPER = \"B\"\n",
    "    SCISSORS = \"C\"\n",
    "\n",
    "\n",
    "class MyPick(str, enum.Enum):\n",
    "    ROCK = \"X\"\n",
    "    PAPER = \"Y\"\n",
    "    SCISSORS = \"Z\"\n",
    "\n",
    "\n",
    "def rps_factory(char: OpponentPick | MyPick | str) -> Rock | Paper | Scissors:\n",
    "    # TODO: pattern matching\n",
    "    class_mapping: dict[str, type[Rock] | type[Paper] | type[Scissors]] = {\n",
    "        OpponentPick.ROCK: Rock,\n",
    "        MyPick.ROCK: Rock,\n",
    "        OpponentPick.PAPER: Paper,\n",
    "        MyPick.PAPER: Paper,\n",
    "        OpponentPick.SCISSORS: Scissors,\n",
    "        MyPick.SCISSORS: Scissors,\n",
    "    }\n",
    "    item_class = class_mapping[char]\n",
    "    return item_class()\n",
    "\n",
    "\n",
    "rps_factory(\"A\") == rps_factory(OpponentPick.ROCK) == rps_factory(MyPick.ROCK)"
   ]
  },
  {
   "cell_type": "code",
   "execution_count": 4,
   "id": "6f7dd878-5142-413c-8b7a-af03b559fe94",
   "metadata": {},
   "outputs": [
    {
     "data": {
      "text/plain": [
       "(Scissors!, Rock!)"
      ]
     },
     "execution_count": 4,
     "metadata": {},
     "output_type": "execute_result"
    }
   ],
   "source": [
    "from pathlib import Path\n",
    "from typing import Generator\n",
    "\n",
    "input_file = Path.cwd().parent / \"inputs\" / \"day2.txt\"\n",
    "assert input_file.exists(), input_file\n",
    "\n",
    "\n",
    "def ingest_rps_picks(input_file: Path) -> Generator[tuple[Item, Item], None, None]:\n",
    "    with open(input_file) as f_in:\n",
    "        for line in f_in:\n",
    "            opponent_pick, my_pick = line.split()\n",
    "            yield rps_factory(opponent_pick), rps_factory(my_pick)\n",
    "\n",
    "\n",
    "g = ingest_rps_picks(input_file)\n",
    "next(g)"
   ]
  },
  {
   "cell_type": "code",
   "execution_count": 5,
   "id": "51022721-a9fc-4f29-a163-4eba1132870c",
   "metadata": {},
   "outputs": [
    {
     "name": "stdout",
     "output_type": "stream",
     "text": [
      "my_score=13221\n",
      "opp_score=12734\n"
     ]
    }
   ],
   "source": [
    "WIN: int = 6\n",
    "DRAW: int = 3\n",
    "LOSS: int = 0\n",
    "\n",
    "my_score: int = 0\n",
    "opp_score: int = 0\n",
    "\n",
    "for opp_pick, my_pick in ingest_rps_picks(input_file):\n",
    "    my_score += my_pick.score\n",
    "    opp_score += opp_pick.score\n",
    "\n",
    "    if my_pick == opp_pick:\n",
    "        my_score += DRAW\n",
    "        opp_score += DRAW\n",
    "    elif my_pick > opp_pick:\n",
    "        my_score += WIN\n",
    "        opp_score += LOSS\n",
    "    elif opp_pick > my_pick:\n",
    "        my_score += LOSS\n",
    "        opp_score += WIN\n",
    "    else:\n",
    "        raise NotImplementedError(\"Unknown Condition Encountered\")\n",
    "\n",
    "print(f\"{my_score=}\\n{opp_score=}\")"
   ]
  },
  {
   "cell_type": "markdown",
   "id": "8e8c3c90-a611-4cb9-80a8-818f49f025ab",
   "metadata": {},
   "source": [
    "## Part 2\n",
    "\n",
    "The Elf finishes helping with the tent and sneaks back over to you. \"Anyway, the second column says how the round needs to end: X means you need to lose, Y means you need to end the round in a draw, and Z means you need to win. Good luck!\"\n",
    "\n",
    "The total score is still calculated in the same way, but now you need to figure out what shape to choose so the round ends as indicated. The example above now goes like this:\n",
    "\n",
    "In the first round, your opponent will choose Rock (A), and you need the round to end in a draw (Y), so you also choose Rock. This gives you a score of 1 + 3 = 4.\n",
    "In the second round, your opponent will choose Paper (B), and you choose Rock so you lose (X) with a score of 1 + 0 = 1.\n",
    "In the third round, you will defeat your opponent's Scissors with Rock for a score of 1 + 6 = 7.\n",
    "Now that you're correctly decrypting the ultra top secret strategy guide, you would get a total score of 12.\n",
    "\n",
    "Following the Elf's instructions for the second column, **what would your total score be if everything goes exactly according to your strategy guide?**"
   ]
  },
  {
   "cell_type": "code",
   "execution_count": 6,
   "id": "eeb255ef-990b-45c8-968c-9ee8aedd7002",
   "metadata": {},
   "outputs": [
    {
     "name": "stdout",
     "output_type": "stream",
     "text": [
      "(Paper!, Scissors!)\n",
      "(Paper!, Rock!)\n",
      "(Paper!, Paper!)\n"
     ]
    }
   ],
   "source": [
    "import enum\n",
    "import functools\n",
    "from typing import TypeAlias\n",
    "\n",
    "\n",
    "class OpponentPick(str, enum.Enum):\n",
    "    ROCK = \"A\"\n",
    "    PAPER = \"B\"\n",
    "    SCISSORS = \"C\"\n",
    "\n",
    "\n",
    "class MyStrategy(str, enum.Enum):\n",
    "    LOSE = \"X\"\n",
    "    DRAW = \"Y\"\n",
    "    WIN = \"Z\"\n",
    "\n",
    "\n",
    "RPS: TypeAlias = Rock | Paper | Scissors\n",
    "\n",
    "\n",
    "@functools.lru_cache(maxsize=32)\n",
    "def _select_rps_for_strategy(opp_rps: RPS, my_strat: MyStrategy) -> RPS:\n",
    "    options: set[RPS] = {Rock(), Paper(), Scissors()}\n",
    "\n",
    "    if my_strat == MyStrategy.DRAW:\n",
    "        return opp_rps\n",
    "    options.remove(opp_rps)  # only needed for draw\n",
    "\n",
    "    for choice in options:\n",
    "        if my_strat == MyStrategy.WIN and choice > opp_rps:\n",
    "            return choice\n",
    "        if my_strat == MyStrategy.LOSE and choice < opp_rps:\n",
    "            return choice\n",
    "\n",
    "    raise NotImplementedError(\"Don't know how to satisfy strategy\")\n",
    "\n",
    "\n",
    "def rps_factory_2(opp_pick: OpponentPick, my_strat: MyStrategy) -> tuple[RPS, RPS]:\n",
    "    pick_mapping: dict[str, RPS] = {\n",
    "        OpponentPick.ROCK: Rock(),\n",
    "        OpponentPick.PAPER: Paper(),\n",
    "        OpponentPick.SCISSORS: Scissors(),\n",
    "    }\n",
    "\n",
    "    opp_rps_pick: RPS = pick_mapping[opp_pick]\n",
    "\n",
    "    my_rps_pick: RPS = _select_rps_for_strategy(opp_rps_pick, my_strat)\n",
    "\n",
    "    return opp_rps_pick, my_rps_pick\n",
    "\n",
    "\n",
    "print(rps_factory_2(OpponentPick.PAPER, MyStrategy.WIN))\n",
    "print(rps_factory_2(OpponentPick.PAPER, MyStrategy.LOSE))\n",
    "print(rps_factory_2(OpponentPick.PAPER, MyStrategy.DRAW))"
   ]
  },
  {
   "cell_type": "code",
   "execution_count": 7,
   "id": "458df30e-ed48-4ad1-9ef6-f3f8a5cbc177",
   "metadata": {},
   "outputs": [
    {
     "data": {
      "text/plain": [
       "(Scissors!, Paper!)"
      ]
     },
     "execution_count": 7,
     "metadata": {},
     "output_type": "execute_result"
    }
   ],
   "source": [
    "def ingest_rps_picks_2(input_file: Path) -> Generator[tuple[Item, Item], None, None]:\n",
    "    with open(input_file) as f_in:\n",
    "        for line in f_in:\n",
    "            opponent_pick, my_strat = line.split()\n",
    "            yield rps_factory_2(opponent_pick, my_strat)  # type: ignore[arg-type]\n",
    "\n",
    "\n",
    "g = ingest_rps_picks_2(input_file)\n",
    "next(g)"
   ]
  },
  {
   "cell_type": "code",
   "execution_count": 8,
   "id": "a88f6590-54cc-42e6-aa00-d0024cfdf3d7",
   "metadata": {},
   "outputs": [
    {
     "name": "stdout",
     "output_type": "stream",
     "text": [
      "my_score=13131\n",
      "opp_score=12239\n"
     ]
    }
   ],
   "source": [
    "WIN: int = 6\n",
    "DRAW: int = 3\n",
    "LOSS: int = 0\n",
    "\n",
    "my_score: int = 0\n",
    "opp_score: int = 0\n",
    "\n",
    "for opp_pick, my_pick in ingest_rps_picks_2(input_file):\n",
    "    my_score += my_pick.score\n",
    "    opp_score += opp_pick.score\n",
    "\n",
    "    if my_pick == opp_pick:\n",
    "        my_score += DRAW\n",
    "        opp_score += DRAW\n",
    "    elif my_pick > opp_pick:\n",
    "        my_score += WIN\n",
    "        opp_score += LOSS\n",
    "    elif opp_pick > my_pick:\n",
    "        my_score += LOSS\n",
    "        opp_score += WIN\n",
    "    else:\n",
    "        raise NotImplementedError(\"Unknown Condition Encountered\")\n",
    "\n",
    "print(f\"{my_score=}\\n{opp_score=}\")"
   ]
  }
 ],
 "metadata": {
  "kernelspec": {
   "display_name": "Python 3 (ipykernel)",
   "language": "python",
   "name": "python3"
  },
  "language_info": {
   "codemirror_mode": {
    "name": "ipython",
    "version": 3
   },
   "file_extension": ".py",
   "mimetype": "text/x-python",
   "name": "python",
   "nbconvert_exporter": "python",
   "pygments_lexer": "ipython3",
   "version": "3.10.8"
  }
 },
 "nbformat": 4,
 "nbformat_minor": 5
}
