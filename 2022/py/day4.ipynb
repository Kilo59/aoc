{
 "cells": [
  {
   "cell_type": "markdown",
   "metadata": {},
   "source": [
    "# Day 4: Camp Cleanup\n",
    "\n",
    "# Part 1\n",
    "\n",
    "Space needs to be cleared before the last supplies can be unloaded from the ships, and so several Elves have been assigned the job of cleaning up sections of the camp. Every section has a unique `ID number`, and each Elf is assigned a range of section IDs.\n",
    "\n",
    "However, as some of the Elves compare their section assignments with each other, they've noticed that many of the assignments `overlap`. To try to quickly find overlaps and reduce duplicated effort, the Elves pair up and make a **big list of the section assignments for each pair** (your puzzle input).\n",
    "\n",
    "For example, consider the following list of section assignment pairs:\n",
    "\n",
    "```\n",
    "2-4,6-8\n",
    "2-3,4-5\n",
    "5-7,7-9\n",
    "2-8,3-7\n",
    "6-6,4-6\n",
    "2-6,4-8\n",
    "```\n",
    "For the first few pairs, this list means:\n",
    "\n",
    "Within the first pair of Elves, the first Elf was assigned sections 2-4 (sections 2, 3, and 4), while the second Elf was assigned sections 6-8 (sections 6, 7, 8).\n",
    "The Elves in the second pair were each assigned two sections.\n",
    "The Elves in the third pair were each assigned three sections: one got sections 5, 6, and 7, while the other also got 7, plus 8 and 9.\n",
    "This example list uses single-digit section IDs to make it easier to draw; your actual list might contain larger numbers. Visually, these pairs of section assignments look like this:\n",
    "\n",
    "```\n",
    ".234.....  2-4\n",
    ".....678.  6-8\n",
    "\n",
    ".23......  2-3\n",
    "...45....  4-5\n",
    "\n",
    "....567..  5-7\n",
    "......789  7-9\n",
    "\n",
    ".2345678.  2-8\n",
    "..34567..  3-7\n",
    "\n",
    ".....6...  6-6\n",
    "...456...  4-6\n",
    "\n",
    ".23456...  2-6\n",
    "...45678.  4-8\n",
    "```\n",
    "Some of the pairs have noticed that one of their assignments fully contains the other. For example, 2-8 fully contains 3-7, and 6-6 is fully contained by 4-6. In pairs where one assignment fully contains the other, one Elf in the pair would be exclusively cleaning sections their partner will already be cleaning, so these seem like the most in need of reconsideration. In this example, there are 2 such pairs.\n",
    "\n",
    "**In how many assignment pairs does one range fully contain the other?**\n",
    "\n",
    "\n",
    "\n"
   ]
  },
  {
   "cell_type": "code",
   "execution_count": 1,
   "metadata": {},
   "outputs": [
    {
     "name": "stderr",
     "output_type": "stream",
     "text": [
      "Version 1.0.4\n"
     ]
    }
   ],
   "source": [
    "%load_ext nb_mypy"
   ]
  },
  {
   "cell_type": "code",
   "execution_count": 2,
   "metadata": {},
   "outputs": [
    {
     "name": "stdout",
     "output_type": "stream",
     "text": [
      "\n",
      "overlap_count=518\n"
     ]
    }
   ],
   "source": [
    "from collections.abc import Generator\n",
    "from pathlib import Path\n",
    "\n",
    "INPUT_FILE = Path.cwd() / \"inputs\" / \"day4.txt\"\n",
    "assert INPUT_FILE.exists(), INPUT_FILE\n",
    "\n",
    "\n",
    "def range_from_str(s: str) -> range:\n",
    "    i1, i2 = s.split(\"-\")\n",
    "    r = range(int(i1), int(i2))\n",
    "    return r\n",
    "\n",
    "\n",
    "def ingest_range_pairs(input_file: Path) -> Generator[tuple[range, range], None, None]:\n",
    "    with open(input_file) as f_in:\n",
    "        for line in f_in:\n",
    "            s1, s2 = line.rstrip().split(\",\")\n",
    "            yield range_from_str(s1), range_from_str(s2)\n",
    "\n",
    "\n",
    "def full_overlap(r1: range, r2: range) -> bool:\n",
    "    if r1.start >= r2.start and r1.stop <= r2.stop:\n",
    "        return True\n",
    "    if r2.start >= r1.start and r2.stop <= r1.stop:\n",
    "        return True\n",
    "    return False\n",
    "\n",
    "\n",
    "overlap_count = 0\n",
    "for i, pairs in enumerate(ingest_range_pairs(INPUT_FILE), start=1):\n",
    "    if full_overlap(*pairs):\n",
    "        overlap_count += 1\n",
    "        # print(f\"{i} Overlap {pairs}\")\n",
    "\n",
    "print(f\"\\n{overlap_count=}\")"
   ]
  },
  {
   "cell_type": "markdown",
   "metadata": {},
   "source": [
    "## Part Two\n",
    "It seems like there is still quite a bit of duplicate work planned. Instead, the Elves would like to know the number of pairs that overlap at all.\n",
    "\n",
    "In the above example, the first two pairs (2-4,6-8 and 2-3,4-5) don't overlap, while the remaining four pairs (5-7,7-9, 2-8,3-7, 6-6,4-6, and 2-6,4-8) do overlap:\n",
    "\n",
    "5-7,7-9 overlaps in a single section, 7.\n",
    "2-8,3-7 overlaps all of the sections 3 through 7.\n",
    "6-6,4-6 overlaps in a single section, 6.\n",
    "2-6,4-8 overlaps in sections 4, 5, and 6.\n",
    "So, in this example, the number of overlapping assignment pairs is 4.\n",
    "\n",
    "**In how many assignment pairs do the ranges overlap?**"
   ]
  },
  {
   "cell_type": "code",
   "execution_count": 3,
   "metadata": {},
   "outputs": [
    {
     "name": "stdout",
     "output_type": "stream",
     "text": [
      "\n",
      "overlap_count=909\n"
     ]
    }
   ],
   "source": [
    "def partial_overlap(r1: range, r2: range) -> bool:\n",
    "    r1_set = set(r1)\n",
    "    r2_set = set(r2)\n",
    "    for range_, set_ in zip((r1, r2), (r1_set, r2_set)):\n",
    "        set_.add(range_.stop)  # end of range should be included\n",
    "\n",
    "    if r1_set.intersection(r2_set):\n",
    "        return True\n",
    "    return False\n",
    "\n",
    "\n",
    "overlap_count = 0\n",
    "for i, pairs in enumerate(ingest_range_pairs(INPUT_FILE), start=1):\n",
    "    if partial_overlap(*pairs):\n",
    "        overlap_count += 1\n",
    "        # print(f\"{i} Overlap {pairs}\")\n",
    "\n",
    "print(f\"\\n{overlap_count=}\")"
   ]
  },
  {
   "cell_type": "markdown",
   "metadata": {},
   "source": [
    "## Alternate Solution using custom objects\n",
    "\n",
    "Would be more useful if you could do things like add and subtract intervals, but that's not needed for this exercise."
   ]
  },
  {
   "cell_type": "code",
   "execution_count": 4,
   "metadata": {},
   "outputs": [],
   "source": [
    "from __future__ import annotations\n",
    "\n",
    "\n",
    "class Interval:\n",
    "    _start: int\n",
    "    _stop: int\n",
    "    _range: range\n",
    "    _set: set[int]\n",
    "\n",
    "    def __init__(self, interval: str):\n",
    "        if not isinstance(interval, str):\n",
    "            raise TypeError(\n",
    "                f\"Expected interval string in the format '1-99', got {type(interval)}\"\n",
    "            )\n",
    "\n",
    "        start, stop = interval.split(\"-\")\n",
    "        self._start = int(start)\n",
    "        self._stop = int(stop)\n",
    "        self._range = range(self._start, self._stop + 1)\n",
    "        self._set = set(self._range)\n",
    "\n",
    "    def __repr__(self) -> str:\n",
    "        return f\"Interval({self._start}, {self._stop})\"\n",
    "\n",
    "    def __eq__(self, other) -> bool:\n",
    "        if not isinstance(other, self.__class__):\n",
    "            return False\n",
    "        return self._start == other._start and self._stop == other._stop\n",
    "\n",
    "    def __contains__(self, other) -> bool:\n",
    "        return self._set.issuperset(set(other))\n",
    "\n",
    "    def __iter__(self):\n",
    "        for i in self._range:\n",
    "            yield i\n",
    "\n",
    "    def intersection(self, other) -> set[int]:  # type: ignore[valid-type]\n",
    "        return self._set.intersection(set(other))"
   ]
  },
  {
   "cell_type": "code",
   "execution_count": 5,
   "metadata": {},
   "outputs": [],
   "source": [
    "a = Interval(\"1-10\")\n",
    "b = Interval(\"2-8\")\n",
    "A = Interval(\"1-10\")\n",
    "c = Interval(\"11-20\")\n",
    "\n",
    "assert a == A\n",
    "assert a != object()\n",
    "assert a != b\n",
    "assert b in a\n",
    "assert c not in a\n",
    "assert [1, 2] in a"
   ]
  },
  {
   "cell_type": "code",
   "execution_count": 6,
   "metadata": {},
   "outputs": [],
   "source": [
    "def ingest_intervals(\n",
    "    input_file: Path,\n",
    ") -> Generator[tuple[Interval, Interval], None, None]:\n",
    "    with open(input_file) as f_in:\n",
    "        for line in f_in:\n",
    "            s1, s2 = line.rstrip().split(\",\")\n",
    "            yield Interval(s1), Interval(s2)"
   ]
  },
  {
   "cell_type": "code",
   "execution_count": 7,
   "metadata": {},
   "outputs": [
    {
     "name": "stdout",
     "output_type": "stream",
     "text": [
      "\n",
      "full_overlap_count=518\n",
      "\n",
      "partial_overlap_count=909\n"
     ]
    }
   ],
   "source": [
    "full_overlap_count = 0\n",
    "partial_overlap_count = 0\n",
    "for i1, i2 in ingest_intervals(INPUT_FILE):\n",
    "    if i1 in i2 or i2 in i1:\n",
    "        full_overlap_count += 1\n",
    "\n",
    "    if i1.intersection(i2):\n",
    "        partial_overlap_count += 1\n",
    "\n",
    "print(f\"\\n{full_overlap_count=}\")\n",
    "print(f\"\\n{partial_overlap_count=}\")"
   ]
  }
 ],
 "metadata": {
  "kernelspec": {
   "display_name": "Python 3 (ipykernel)",
   "language": "python",
   "name": "python3"
  },
  "language_info": {
   "codemirror_mode": {
    "name": "ipython",
    "version": 3
   },
   "file_extension": ".py",
   "mimetype": "text/x-python",
   "name": "python",
   "nbconvert_exporter": "python",
   "pygments_lexer": "ipython3",
   "version": "3.10.8"
  },
  "orig_nbformat": 4
 },
 "nbformat": 4,
 "nbformat_minor": 2
}
